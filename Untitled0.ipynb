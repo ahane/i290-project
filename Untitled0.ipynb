{
 "metadata": {
  "name": "Untitled0"
 },
 "nbformat": 3,
 "nbformat_minor": 0,
 "worksheets": [
  {
   "cells": [
    {
     "cell_type": "code",
     "collapsed": false,
     "input": [
      "%run readsamp.py"
     ],
     "language": "python",
     "metadata": {},
     "outputs": [],
     "prompt_number": 6
    },
    {
     "cell_type": "code",
     "collapsed": false,
     "input": [
      "a[0]"
     ],
     "language": "python",
     "metadata": {},
     "outputs": [
      {
       "output_type": "pyout",
       "prompt_number": 7,
       "text": [
        "{u'author2': [u'Blossom, Elizabeth T'],\n",
        " u'catalog_date': [u'20020608'],\n",
        " u'country': u'Ohio',\n",
        " u'governing_source': [u'MH'],\n",
        " u'id': u'000000001-9',\n",
        " u'lang': u'English',\n",
        " u'page_count': 5,\n",
        " u'physical_desc': [u'[5] p.'],\n",
        " u'physical_dimensions': [u'28 cm'],\n",
        " u'place_of_pub': [u'Cleveland, Ohio'],\n",
        " u'pub_date': u'1982-12-02',\n",
        " u'publisher': [u'E.T. Blossom'],\n",
        " u'r008': u'821202|1946    ohu||||  |||| |0||||eng|d',\n",
        " u'responsibility_statement': [u'compiled by Elizabeth T. Blossom, Librarian, Garden Center of Greater Cleveland'],\n",
        " u'system_control_number': [u'ocm83845952'],\n",
        " u'title': [u'Brief bibliography of modern garden books suggested for a garden center library'],\n",
        " u'topical_terms': [u'Gardening'],\n",
        " u'type': u'book',\n",
        " u'update_date': u'20111116163657.0'}"
       ]
      }
     ],
     "prompt_number": 7
    },
    {
     "cell_type": "code",
     "collapsed": false,
     "input": [
      "isinstance(a[4]['topical_terms'], list)"
     ],
     "language": "python",
     "metadata": {},
     "outputs": [
      {
       "ename": "KeyError",
       "evalue": "'topical_terms'",
       "output_type": "pyerr",
       "traceback": [
        "\u001b[1;31m---------------------------------------------------------------------------\u001b[0m\n\u001b[1;31mKeyError\u001b[0m                                  Traceback (most recent call last)",
        "\u001b[1;32m<ipython-input-73-8580a749ae33>\u001b[0m in \u001b[0;36m<module>\u001b[1;34m()\u001b[0m\n\u001b[1;32m----> 1\u001b[1;33m \u001b[0misinstance\u001b[0m\u001b[1;33m(\u001b[0m\u001b[0ma\u001b[0m\u001b[1;33m[\u001b[0m\u001b[1;36m4\u001b[0m\u001b[1;33m]\u001b[0m\u001b[1;33m[\u001b[0m\u001b[1;34m'topical_terms'\u001b[0m\u001b[1;33m]\u001b[0m\u001b[1;33m,\u001b[0m \u001b[0mlist\u001b[0m\u001b[1;33m)\u001b[0m\u001b[1;33m\u001b[0m\u001b[0m\n\u001b[0m",
        "\u001b[1;31mKeyError\u001b[0m: 'topical_terms'"
       ]
      }
     ],
     "prompt_number": 73
    },
    {
     "cell_type": "code",
     "collapsed": false,
     "input": [
      "#Look up all unique entries in a field\n",
      "def find_all(field):\n",
      "    entries = set()\n",
      "    for record in a:\n",
      " \n",
      "        if field in record:\n",
      "            if isinstance(record[field], list):\n",
      "                for entry in record[field]:\n",
      "                    entries.add(entry)\n",
      "            else:\n",
      "                entries.add(record[field])\n",
      "    return entries"
     ],
     "language": "python",
     "metadata": {},
     "outputs": [],
     "prompt_number": 76
    },
    {
     "cell_type": "code",
     "collapsed": false,
     "input": [
      "#Look for types\n",
      "find_all('type')"
     ],
     "language": "python",
     "metadata": {},
     "outputs": [
      {
       "output_type": "pyout",
       "prompt_number": 78,
       "text": [
        "set([u'map',\n",
        "     u'unknown',\n",
        "     u'excerpt',\n",
        "     u'pamphlet',\n",
        "     u'book',\n",
        "     u'video',\n",
        "     u'periodical',\n",
        "     u'audio'])"
       ]
      }
     ],
     "prompt_number": 78
    },
    {
     "cell_type": "code",
     "collapsed": false,
     "input": [
      "#Find all english Books titles\n",
      "books = []\n",
      "for record in a:\n",
      "    if record['type'] == 'book' and record['lang'] == \"English\":\n",
      "        books.append(record)"
     ],
     "language": "python",
     "metadata": {},
     "outputs": [],
     "prompt_number": 16
    },
    {
     "cell_type": "code",
     "collapsed": false,
     "input": [
      "#Stopwords from http://www.textfixer.com/resources/common-english-words.txt\n",
      "stopw = \"a,able,about,across,after,all,almost,also,am,among,an,and,any,are,as,at,be,because,been,but,by,can,cannot,could,dear,did,do,does,either,else,ever,every,for,from,get,got,had,has,have,he,her,hers,him,his,how,however,i,if,in,into,is,it,its,just,least,let,like,likely,may,me,might,most,must,my,neither,no,nor,not,of,off,often,on,only,or,other,our,own,rather,said,say,says,she,should,since,so,some,than,that,the,their,them,then,there,these,they,this,tis,to,too,twas,us,wants,was,we,were,what,when,where,which,while,who,whom,why,will,with,would,yet,you,your\"\n",
      "stopw = set(stopw.split(','))"
     ],
     "language": "python",
     "metadata": {},
     "outputs": [],
     "prompt_number": 33
    },
    {
     "cell_type": "code",
     "collapsed": false,
     "input": [
      "#Count words in english books\n",
      "from collections import Counter\n",
      "wordscount = Counter()\n",
      "for book in books:\n",
      "    words = book['title'][0].split(' ')\n",
      "    for word in words:\n",
      "        word = word.lower()\n",
      "        if word not in stopw:\n",
      "            wordscount[word] +=1"
     ],
     "language": "python",
     "metadata": {},
     "outputs": [],
     "prompt_number": 53
    },
    {
     "cell_type": "code",
     "collapsed": false,
     "input": [
      "top = wordscount.most_common(30)"
     ],
     "language": "python",
     "metadata": {},
     "outputs": [],
     "prompt_number": 56
    },
    {
     "cell_type": "code",
     "collapsed": false,
     "input": [
      "top"
     ],
     "language": "python",
     "metadata": {},
     "outputs": [
      {
       "output_type": "pyout",
       "prompt_number": 57,
       "text": [
        "[(u'landscape', 21),\n",
        " (u'society', 14),\n",
        " (u'new', 10),\n",
        " (u'architecture', 9),\n",
        " (u'garden', 8),\n",
        " (u'american', 8),\n",
        " (u'exhibition', 8),\n",
        " (u'history', 7),\n",
        " (u'industry', 7),\n",
        " (u'management', 6),\n",
        " (u'national', 6),\n",
        " (u'war', 6),\n",
        " (u'politics', 6),\n",
        " (u'collection', 5),\n",
        " (u'nigeria', 5),\n",
        " (u'architects', 5),\n",
        " (u'report', 5),\n",
        " (u'art', 5),\n",
        " (u'j.', 5),\n",
        " (u'arts', 5),\n",
        " (u'social', 4),\n",
        " (u'horticultural', 4),\n",
        " (u'&', 4),\n",
        " (u'information', 4),\n",
        " (u'years', 4),\n",
        " (u'agricultural', 4),\n",
        " (u'research', 4),\n",
        " (u'first', 4),\n",
        " (u'boston', 4),\n",
        " (u'review', 4)]"
       ]
      }
     ],
     "prompt_number": 57
    },
    {
     "cell_type": "code",
     "collapsed": false,
     "input": [],
     "language": "python",
     "metadata": {},
     "outputs": []
    }
   ],
   "metadata": {}
  }
 ]
}