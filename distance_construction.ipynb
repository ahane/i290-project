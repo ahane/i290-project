{
 "metadata": {
  "name": "distance_construction"
 },
 "nbformat": 3,
 "nbformat_minor": 0,
 "worksheets": [
  {
   "cells": [
    {
     "cell_type": "code",
     "collapsed": false,
     "input": [
      "import json\n",
      "import pandas as pd\n",
      "import numpy as np\n",
      "from scipy import sparse"
     ],
     "language": "python",
     "metadata": {},
     "outputs": [
      {
       "ename": "ImportError",
       "evalue": "No module named scipy",
       "output_type": "pyerr",
       "traceback": [
        "\u001b[1;31m---------------------------------------------------------------------------\u001b[0m\n\u001b[1;31mImportError\u001b[0m                               Traceback (most recent call last)",
        "\u001b[1;32m<ipython-input-62-f927a1d19d9a>\u001b[0m in \u001b[0;36m<module>\u001b[1;34m()\u001b[0m\n\u001b[0;32m      2\u001b[0m \u001b[1;32mimport\u001b[0m \u001b[0mpandas\u001b[0m \u001b[1;32mas\u001b[0m \u001b[0mpd\u001b[0m\u001b[1;33m\u001b[0m\u001b[0m\n\u001b[0;32m      3\u001b[0m \u001b[1;32mimport\u001b[0m \u001b[0mnumpy\u001b[0m \u001b[1;32mas\u001b[0m \u001b[0mnp\u001b[0m\u001b[1;33m\u001b[0m\u001b[0m\n\u001b[1;32m----> 4\u001b[1;33m \u001b[1;32mfrom\u001b[0m \u001b[0mscipy\u001b[0m \u001b[1;32mimport\u001b[0m \u001b[0msparse\u001b[0m\u001b[1;33m\u001b[0m\u001b[0m\n\u001b[0m",
        "\u001b[1;31mImportError\u001b[0m: No module named scipy"
       ]
      }
     ],
     "prompt_number": 62
    },
    {
     "cell_type": "code",
     "collapsed": false,
     "input": [
      "data = []\n",
      "with open('sub.txt') as sample:\n",
      "    for line in sample:\n",
      "        data.append(json.loads(line))"
     ],
     "language": "python",
     "metadata": {},
     "outputs": [],
     "prompt_number": 2
    },
    {
     "cell_type": "code",
     "collapsed": false,
     "input": [],
     "language": "python",
     "metadata": {},
     "outputs": [],
     "prompt_number": 2
    },
    {
     "cell_type": "code",
     "collapsed": false,
     "input": [
      "df = pd.DataFrame(data)"
     ],
     "language": "python",
     "metadata": {},
     "outputs": [],
     "prompt_number": 3
    },
    {
     "cell_type": "code",
     "collapsed": false,
     "input": [
      "df.head()"
     ],
     "language": "python",
     "metadata": {},
     "outputs": [
      {
       "output_type": "pyout",
       "prompt_number": 4,
       "text": [
        "<class 'pandas.core.frame.DataFrame'>\n",
        "Int64Index: 5 entries, 0 to 4\n",
        "Data columns:\n",
        "alt_glyph_a                 0  non-null values\n",
        "alt_glyph_b                 0  non-null values\n",
        "alt_glyph_c                 0  non-null values\n",
        "alt_glyph_d                 0  non-null values\n",
        "alt_glyph_link_ref          0  non-null values\n",
        "alt_title                   2  non-null values\n",
        "auth_code                   0  non-null values\n",
        "author                      0  non-null values\n",
        "author2                     2  non-null values\n",
        "author2_dates               0  non-null values\n",
        "author_dates                0  non-null values\n",
        "bibliography                0  non-null values\n",
        "catalog_date                5  non-null values\n",
        "catalog_source              0  non-null values\n",
        "corporate_name              2  non-null values\n",
        "country                     5  non-null values\n",
        "dewey_decimal               0  non-null values\n",
        "docid                       5  non-null values\n",
        "edition                     0  non-null values\n",
        "edition_num                 0  non-null values\n",
        "form_subdivision            0  non-null values\n",
        "general_note                1  non-null values\n",
        "genre                       0  non-null values\n",
        "geo_area_code               0  non-null values\n",
        "geo_general_subdivision     0  non-null values\n",
        "geo_name                    0  non-null values\n",
        "geo_subdivision             1  non-null values\n",
        "governing_source            5  non-null values\n",
        "id                          5  non-null values\n",
        "invalid_isbn                0  non-null values\n",
        "isbn                        0  non-null values\n",
        "issn                        0  non-null values\n",
        "issn_title                  0  non-null values\n",
        "lang                        5  non-null values\n",
        "loc_class_num               0  non-null values\n",
        "loc_code                    0  non-null values\n",
        "loc_item_num                0  non-null values\n",
        "local_call_number           0  non-null values\n",
        "manufacture_date            0  non-null values\n",
        "manufacturer_name           0  non-null values\n",
        "modifying_agency            0  non-null values\n",
        "music_form                  0  non-null values\n",
        "natl_lib_code               0  non-null values\n",
        "page_count                  5  non-null values\n",
        "physical_desc               5  non-null values\n",
        "physical_desc_2             1  non-null values\n",
        "physical_dimensions         5  non-null values\n",
        "place_of_manufacture        0  non-null values\n",
        "place_of_pub                5  non-null values\n",
        "price_availability          0  non-null values\n",
        "pub_date                    5  non-null values\n",
        "publisher                   5  non-null values\n",
        "r008                        5  non-null values\n",
        "responsibility_statement    3  non-null values\n",
        "series                      0  non-null values\n",
        "series2                     0  non-null values\n",
        "subject_personal_name       0  non-null values\n",
        "subtitle                    0  non-null values\n",
        "system_control_number       5  non-null values\n",
        "title                       5  non-null values\n",
        "title_abbr                  0  non-null values\n",
        "topical_terms               3  non-null values\n",
        "topical_terms_2             0  non-null values\n",
        "type                        5  non-null values\n",
        "update_date                 5  non-null values\n",
        "dtypes: float64(1), object(64)"
       ]
      }
     ],
     "prompt_number": 4
    },
    {
     "cell_type": "code",
     "collapsed": false,
     "input": [
      "#Example subselection of columns and filtering\n",
      "df[['title', 'alt_title', 'pub_date', 'genre', 'edition', 'subtitle']][df['pub_date'] == '1948-12-02'][:20]"
     ],
     "language": "python",
     "metadata": {},
     "outputs": [
      {
       "html": [
        "<div style=\"max-height:1000px;max-width:1500px;overflow:auto;\">\n",
        "<table border=\"1\" class=\"dataframe\">\n",
        "  <thead>\n",
        "    <tr style=\"text-align: right;\">\n",
        "      <th></th>\n",
        "      <th>title</th>\n",
        "      <th>alt_title</th>\n",
        "      <th>pub_date</th>\n",
        "      <th>genre</th>\n",
        "      <th>edition</th>\n",
        "      <th>subtitle</th>\n",
        "    </tr>\n",
        "  </thead>\n",
        "  <tbody>\n",
        "    <tr>\n",
        "      <th>2 </th>\n",
        "      <td> [The first fifty years of the Massachusetts Fo...</td>\n",
        "      <td>                            NaN</td>\n",
        "      <td> 1948-12-02</td>\n",
        "      <td> NaN</td>\n",
        "      <td> NaN</td>\n",
        "      <td>                                               NaN</td>\n",
        "    </tr>\n",
        "    <tr>\n",
        "      <th>12</th>\n",
        "      <td>                      [Lord & Burnham greenhouses]</td>\n",
        "      <td> [Lord and Burnham greenhouses]</td>\n",
        "      <td> 1948-12-02</td>\n",
        "      <td> NaN</td>\n",
        "      <td> NaN</td>\n",
        "      <td>                                               NaN</td>\n",
        "    </tr>\n",
        "    <tr>\n",
        "      <th>44</th>\n",
        "      <td>               [The Landscape of work and leisure]</td>\n",
        "      <td>                            NaN</td>\n",
        "      <td> 1948-12-02</td>\n",
        "      <td> NaN</td>\n",
        "      <td> NaN</td>\n",
        "      <td> [an international exhibition of the work of la...</td>\n",
        "    </tr>\n",
        "  </tbody>\n",
        "</table>\n",
        "</div>"
       ],
       "output_type": "pyout",
       "prompt_number": 5,
       "text": [
        "                                                title  \\\n",
        "2   [The first fifty years of the Massachusetts Fo...   \n",
        "12                       [Lord & Burnham greenhouses]   \n",
        "44                [The Landscape of work and leisure]   \n",
        "\n",
        "                         alt_title    pub_date genre edition  \\\n",
        "2                              NaN  1948-12-02   NaN     NaN   \n",
        "12  [Lord and Burnham greenhouses]  1948-12-02   NaN     NaN   \n",
        "44                             NaN  1948-12-02   NaN     NaN   \n",
        "\n",
        "                                             subtitle  \n",
        "2                                                 NaN  \n",
        "12                                                NaN  \n",
        "44  [an international exhibition of the work of la...  "
       ]
      }
     ],
     "prompt_number": 5
    },
    {
     "cell_type": "code",
     "collapsed": false,
     "input": [
      "#Look how many English books are in the dataset\n",
      "df[['title', 'topical_terms', 'pub_date', 'lang', 'type']][(df['lang'] == 'English') & (df['type'] == 'book')].count()"
     ],
     "language": "python",
     "metadata": {},
     "outputs": [
      {
       "output_type": "pyout",
       "prompt_number": 6,
       "text": [
        "title            6421\n",
        "topical_terms    4821\n",
        "pub_date         6422\n",
        "lang             6422\n",
        "type             6422"
       ]
      }
     ],
     "prompt_number": 6
    },
    {
     "cell_type": "code",
     "collapsed": false,
     "input": [
      "#Check how many other records there are\n",
      "df[['title', 'topical_terms', 'pub_date', 'lang', 'type']][(df['lang'] == 'English') & (df['type'] != 'book')].count()"
     ],
     "language": "python",
     "metadata": {},
     "outputs": [
      {
       "output_type": "pyout",
       "prompt_number": 7,
       "text": [
        "title            6123\n",
        "topical_terms    1657\n",
        "pub_date         6123\n",
        "lang             6123\n",
        "type             6123"
       ]
      }
     ],
     "prompt_number": 7
    },
    {
     "cell_type": "code",
     "collapsed": false,
     "input": [
      "en_bk = df[['title', 'topical_terms', 'pub_date']][(df['lang'] == 'English') & (df['type'] == 'book')].copy()"
     ],
     "language": "python",
     "metadata": {},
     "outputs": [],
     "prompt_number": 8
    },
    {
     "cell_type": "code",
     "collapsed": false,
     "input": [
      "en_bk.head()"
     ],
     "language": "python",
     "metadata": {},
     "outputs": [
      {
       "html": [
        "<div style=\"max-height:1000px;max-width:1500px;overflow:auto;\">\n",
        "<table border=\"1\" class=\"dataframe\">\n",
        "  <thead>\n",
        "    <tr style=\"text-align: right;\">\n",
        "      <th></th>\n",
        "      <th>title</th>\n",
        "      <th>topical_terms</th>\n",
        "      <th>pub_date</th>\n",
        "    </tr>\n",
        "  </thead>\n",
        "  <tbody>\n",
        "    <tr>\n",
        "      <th>0</th>\n",
        "      <td> [Brief bibliography of modern garden books sug...</td>\n",
        "      <td>                   [Gardening]</td>\n",
        "      <td> 1946-12-02</td>\n",
        "    </tr>\n",
        "    <tr>\n",
        "      <th>2</th>\n",
        "      <td> [The first fifty years of the Massachusetts Fo...</td>\n",
        "      <td> [Forests and forestry, Parks]</td>\n",
        "      <td> 1948-12-02</td>\n",
        "    </tr>\n",
        "    <tr>\n",
        "      <th>3</th>\n",
        "      <td>                                            [AILA]</td>\n",
        "      <td>                           NaN</td>\n",
        "      <td> 1974-12-02</td>\n",
        "    </tr>\n",
        "    <tr>\n",
        "      <th>5</th>\n",
        "      <td>                                 [Garden calendar]</td>\n",
        "      <td>                   [Gardening]</td>\n",
        "      <td> 1929-12-02</td>\n",
        "    </tr>\n",
        "    <tr>\n",
        "      <th>6</th>\n",
        "      <td> [National roster of scientific and specialized...</td>\n",
        "      <td>                           NaN</td>\n",
        "      <td> 1946-12-02</td>\n",
        "    </tr>\n",
        "  </tbody>\n",
        "</table>\n",
        "</div>"
       ],
       "output_type": "pyout",
       "prompt_number": 9,
       "text": [
        "                                               title  \\\n",
        "0  [Brief bibliography of modern garden books sug...   \n",
        "2  [The first fifty years of the Massachusetts Fo...   \n",
        "3                                             [AILA]   \n",
        "5                                  [Garden calendar]   \n",
        "6  [National roster of scientific and specialized...   \n",
        "\n",
        "                   topical_terms    pub_date  \n",
        "0                    [Gardening]  1946-12-02  \n",
        "2  [Forests and forestry, Parks]  1948-12-02  \n",
        "3                            NaN  1974-12-02  \n",
        "5                    [Gardening]  1929-12-02  \n",
        "6                            NaN  1946-12-02  "
       ]
      }
     ],
     "prompt_number": 9
    },
    {
     "cell_type": "code",
     "collapsed": false,
     "input": [
      "en_bk['title'] = en_bk['title'].apply(lambda x: str(x)[1:-1])\n",
      "en_bk['year'] = en_bk['pub_date'].apply(lambda x: str(x)[:4])"
     ],
     "language": "python",
     "metadata": {},
     "outputs": [],
     "prompt_number": 22
    },
    {
     "cell_type": "code",
     "collapsed": false,
     "input": [
      "en_bk.head()"
     ],
     "language": "python",
     "metadata": {},
     "outputs": [
      {
       "html": [
        "<div style=\"max-height:1000px;max-width:1500px;overflow:auto;\">\n",
        "<table border=\"1\" class=\"dataframe\">\n",
        "  <thead>\n",
        "    <tr style=\"text-align: right;\">\n",
        "      <th></th>\n",
        "      <th>title</th>\n",
        "      <th>topical_terms</th>\n",
        "      <th>pub_date</th>\n",
        "      <th>year</th>\n",
        "      <th>words</th>\n",
        "      <th>num_words</th>\n",
        "    </tr>\n",
        "  </thead>\n",
        "  <tbody>\n",
        "    <tr>\n",
        "      <th>0</th>\n",
        "      <td> 'Brief bibliography of modern garden books sug...</td>\n",
        "      <td>                   [Gardening]</td>\n",
        "      <td> 1946-12-02</td>\n",
        "      <td> 1946</td>\n",
        "      <td> [u, brief, bibliography, of, modern, garden, b...</td>\n",
        "      <td> 13</td>\n",
        "    </tr>\n",
        "    <tr>\n",
        "      <th>2</th>\n",
        "      <td> 'The first fifty years of the Massachusetts Fo...</td>\n",
        "      <td> [Forests and forestry, Parks]</td>\n",
        "      <td> 1948-12-02</td>\n",
        "      <td> 1948</td>\n",
        "      <td> [u, the, first, fifty, years, of, the, massach...</td>\n",
        "      <td> 19</td>\n",
        "    </tr>\n",
        "    <tr>\n",
        "      <th>3</th>\n",
        "      <td>                                             'AILA</td>\n",
        "      <td>                           NaN</td>\n",
        "      <td> 1974-12-02</td>\n",
        "      <td> 1974</td>\n",
        "      <td>                                         [u, aila]</td>\n",
        "      <td>  2</td>\n",
        "    </tr>\n",
        "    <tr>\n",
        "      <th>5</th>\n",
        "      <td>                                  'Garden calendar</td>\n",
        "      <td>                   [Gardening]</td>\n",
        "      <td> 1929-12-02</td>\n",
        "      <td> 1929</td>\n",
        "      <td>                             [u, garden, calendar]</td>\n",
        "      <td>  3</td>\n",
        "    </tr>\n",
        "    <tr>\n",
        "      <th>6</th>\n",
        "      <td> 'National roster of scientific and specialized...</td>\n",
        "      <td>                           NaN</td>\n",
        "      <td> 1946-12-02</td>\n",
        "      <td> 1946</td>\n",
        "      <td> [u, national, roster, of, scientific, and, spe...</td>\n",
        "      <td>  8</td>\n",
        "    </tr>\n",
        "  </tbody>\n",
        "</table>\n",
        "</div>"
       ],
       "output_type": "pyout",
       "prompt_number": 23,
       "text": [
        "                                               title  \\\n",
        "0  'Brief bibliography of modern garden books sug...   \n",
        "2  'The first fifty years of the Massachusetts Fo...   \n",
        "3                                              'AILA   \n",
        "5                                   'Garden calendar   \n",
        "6  'National roster of scientific and specialized...   \n",
        "\n",
        "                   topical_terms    pub_date  year  \\\n",
        "0                    [Gardening]  1946-12-02  1946   \n",
        "2  [Forests and forestry, Parks]  1948-12-02  1948   \n",
        "3                            NaN  1974-12-02  1974   \n",
        "5                    [Gardening]  1929-12-02  1929   \n",
        "6                            NaN  1946-12-02  1946   \n",
        "\n",
        "                                               words  num_words  \n",
        "0  [u, brief, bibliography, of, modern, garden, b...         13  \n",
        "2  [u, the, first, fifty, years, of, the, massach...         19  \n",
        "3                                          [u, aila]          2  \n",
        "5                              [u, garden, calendar]          3  \n",
        "6  [u, national, roster, of, scientific, and, spe...          8  "
       ]
      }
     ],
     "prompt_number": 23
    },
    {
     "cell_type": "code",
     "collapsed": false,
     "input": [
      "import re\n",
      "from nltk.corpus import stopwords\n",
      "WORDS_RE = re.compile(r'[\\w]+')\n",
      "def create_wordlist(title):\n",
      "    words = WORDS_RE.findall(title)\n",
      "    words = map(str.lower, words)\n",
      "    words = list(set(words) - set(stopwords.words('english')))\n",
      "    return words\n",
      "en_bk['words'] = en_bk['title'].apply(create_wordlist)"
     ],
     "language": "python",
     "metadata": {},
     "outputs": [],
     "prompt_number": 42
    },
    {
     "cell_type": "code",
     "collapsed": false,
     "input": [],
     "language": "python",
     "metadata": {},
     "outputs": [],
     "prompt_number": 37
    },
    {
     "cell_type": "code",
     "collapsed": false,
     "input": [
      "    "
     ],
     "language": "python",
     "metadata": {},
     "outputs": [],
     "prompt_number": 40
    },
    {
     "cell_type": "code",
     "collapsed": false,
     "input": [
      "en_bk['num_words'] = en_bk['words'].apply(len)\n",
      "total_words = en_bk['num_words'].sum()"
     ],
     "language": "python",
     "metadata": {},
     "outputs": [],
     "prompt_number": 43
    },
    {
     "cell_type": "code",
     "collapsed": false,
     "input": [
      "en_bk[:10]"
     ],
     "language": "python",
     "metadata": {},
     "outputs": [
      {
       "html": [
        "<div style=\"max-height:1000px;max-width:1500px;overflow:auto;\">\n",
        "<table border=\"1\" class=\"dataframe\">\n",
        "  <thead>\n",
        "    <tr style=\"text-align: right;\">\n",
        "      <th></th>\n",
        "      <th>title</th>\n",
        "      <th>topical_terms</th>\n",
        "      <th>pub_date</th>\n",
        "      <th>year</th>\n",
        "      <th>words</th>\n",
        "      <th>num_words</th>\n",
        "    </tr>\n",
        "  </thead>\n",
        "  <tbody>\n",
        "    <tr>\n",
        "      <th>0 </th>\n",
        "      <td> 'Brief bibliography of modern garden books sug...</td>\n",
        "      <td>                                       [Gardening]</td>\n",
        "      <td> 1946-12-02</td>\n",
        "      <td> 1946</td>\n",
        "      <td> [suggested, bibliography, garden, modern, brie...</td>\n",
        "      <td>  8</td>\n",
        "    </tr>\n",
        "    <tr>\n",
        "      <th>2 </th>\n",
        "      <td> 'The first fifty years of the Massachusetts Fo...</td>\n",
        "      <td>                     [Forests and forestry, Parks]</td>\n",
        "      <td> 1948-12-02</td>\n",
        "      <td> 1948</td>\n",
        "      <td> [1948, park, first, years, forestry, 1932, 189...</td>\n",
        "      <td> 11</td>\n",
        "    </tr>\n",
        "    <tr>\n",
        "      <th>3 </th>\n",
        "      <td>                                             'AILA</td>\n",
        "      <td>                                               NaN</td>\n",
        "      <td> 1974-12-02</td>\n",
        "      <td> 1974</td>\n",
        "      <td>                                            [aila]</td>\n",
        "      <td>  1</td>\n",
        "    </tr>\n",
        "    <tr>\n",
        "      <th>5 </th>\n",
        "      <td>                                  'Garden calendar</td>\n",
        "      <td>                                       [Gardening]</td>\n",
        "      <td> 1929-12-02</td>\n",
        "      <td> 1929</td>\n",
        "      <td>                                [calendar, garden]</td>\n",
        "      <td>  2</td>\n",
        "    </tr>\n",
        "    <tr>\n",
        "      <th>6 </th>\n",
        "      <td> 'National roster of scientific and specialized...</td>\n",
        "      <td>                                               NaN</td>\n",
        "      <td> 1946-12-02</td>\n",
        "      <td> 1946</td>\n",
        "      <td> [personnel, national, specialized, scientific,...</td>\n",
        "      <td>  5</td>\n",
        "    </tr>\n",
        "    <tr>\n",
        "      <th>7 </th>\n",
        "      <td> 'You are invited to join the National Parks As...</td>\n",
        "      <td>                                               NaN</td>\n",
        "      <td> 1982-12-02</td>\n",
        "      <td> 1982</td>\n",
        "      <td>     [association, invited, join, national, parks]</td>\n",
        "      <td>  5</td>\n",
        "    </tr>\n",
        "    <tr>\n",
        "      <th>9 </th>\n",
        "      <td>                                  'Triangular road</td>\n",
        "      <td> [African American authors, Women and literatur...</td>\n",
        "      <td> 2009-08-18</td>\n",
        "      <td> 2009</td>\n",
        "      <td>                                [triangular, road]</td>\n",
        "      <td>  2</td>\n",
        "    </tr>\n",
        "    <tr>\n",
        "      <th>10</th>\n",
        "      <td>               'A nature center for your community</td>\n",
        "      <td>        [Nature centers, Natural resources, Parks]</td>\n",
        "      <td> 1962-12-02</td>\n",
        "      <td> 1962</td>\n",
        "      <td>                       [center, community, nature]</td>\n",
        "      <td>  3</td>\n",
        "    </tr>\n",
        "    <tr>\n",
        "      <th>11</th>\n",
        "      <td>                         'Planning a nature career</td>\n",
        "      <td>                                  [Nature centers]</td>\n",
        "      <td> 1963-12-02</td>\n",
        "      <td> 1963</td>\n",
        "      <td>                        [career, planning, nature]</td>\n",
        "      <td>  3</td>\n",
        "    </tr>\n",
        "    <tr>\n",
        "      <th>12</th>\n",
        "      <td>                       'Lord & Burnham greenhouses</td>\n",
        "      <td>                                     [Greenhouses]</td>\n",
        "      <td> 1948-12-02</td>\n",
        "      <td> 1948</td>\n",
        "      <td>                      [burnham, lord, greenhouses]</td>\n",
        "      <td>  3</td>\n",
        "    </tr>\n",
        "  </tbody>\n",
        "</table>\n",
        "</div>"
       ],
       "output_type": "pyout",
       "prompt_number": 44,
       "text": [
        "                                                title  \\\n",
        "0   'Brief bibliography of modern garden books sug...   \n",
        "2   'The first fifty years of the Massachusetts Fo...   \n",
        "3                                               'AILA   \n",
        "5                                    'Garden calendar   \n",
        "6   'National roster of scientific and specialized...   \n",
        "7   'You are invited to join the National Parks As...   \n",
        "9                                    'Triangular road   \n",
        "10                'A nature center for your community   \n",
        "11                          'Planning a nature career   \n",
        "12                        'Lord & Burnham greenhouses   \n",
        "\n",
        "                                        topical_terms    pub_date  year  \\\n",
        "0                                         [Gardening]  1946-12-02  1946   \n",
        "2                       [Forests and forestry, Parks]  1948-12-02  1948   \n",
        "3                                                 NaN  1974-12-02  1974   \n",
        "5                                         [Gardening]  1929-12-02  1929   \n",
        "6                                                 NaN  1946-12-02  1946   \n",
        "7                                                 NaN  1982-12-02  1982   \n",
        "9   [African American authors, Women and literatur...  2009-08-18  2009   \n",
        "10         [Nature centers, Natural resources, Parks]  1962-12-02  1962   \n",
        "11                                   [Nature centers]  1963-12-02  1963   \n",
        "12                                      [Greenhouses]  1948-12-02  1948   \n",
        "\n",
        "                                                words  num_words  \n",
        "0   [suggested, bibliography, garden, modern, brie...          8  \n",
        "2   [1948, park, first, years, forestry, 1932, 189...         11  \n",
        "3                                              [aila]          1  \n",
        "5                                  [calendar, garden]          2  \n",
        "6   [personnel, national, specialized, scientific,...          5  \n",
        "7       [association, invited, join, national, parks]          5  \n",
        "9                                  [triangular, road]          2  \n",
        "10                        [center, community, nature]          3  \n",
        "11                         [career, planning, nature]          3  \n",
        "12                       [burnham, lord, greenhouses]          3  "
       ]
      }
     ],
     "prompt_number": 44
    },
    {
     "cell_type": "code",
     "collapsed": false,
     "input": [],
     "language": "python",
     "metadata": {},
     "outputs": [],
     "prompt_number": 44
    },
    {
     "cell_type": "code",
     "collapsed": false,
     "input": [
      "class Globals:\n",
      "    __master = None\n",
      "    all_words = np.ndarray((0, 2))\n",
      "\n",
      "    @staticmethod\n",
      "    def get_master():\n",
      "        if Globals.__master is None:\n",
      "            Globals.__master = Globals()\n",
      "\n",
      "        return Globals.__master\n",
      "\n",
      "g = Globals.get_master()\n",
      "\n",
      "def append_words(row):\n",
      "    for word in row['words']:\n",
      "        word_year = np.array([[row['year'], word]])\n",
      "        \n",
      "        new = np.concatenate([g.all_words, word_year])\n",
      "        g.all_words = new\n",
      "    "
     ],
     "language": "python",
     "metadata": {},
     "outputs": [],
     "prompt_number": 45
    },
    {
     "cell_type": "code",
     "collapsed": false,
     "input": [
      "en_bk.apply(append_words, axis = 1)"
     ],
     "language": "python",
     "metadata": {},
     "outputs": [
      {
       "output_type": "pyout",
       "prompt_number": 46,
       "text": [
        "0     None\n",
        "2     None\n",
        "3     None\n",
        "5     None\n",
        "6     None\n",
        "7     None\n",
        "9     None\n",
        "10    None\n",
        "11    None\n",
        "12    None\n",
        "14    None\n",
        "15    None\n",
        "16    None\n",
        "17    None\n",
        "18    None\n",
        "...\n",
        "99861    None\n",
        "99862    None\n",
        "99865    None\n",
        "99868    None\n",
        "99876    None\n",
        "99932    None\n",
        "99941    None\n",
        "99958    None\n",
        "99959    None\n",
        "99983    None\n",
        "99984    None\n",
        "99988    None\n",
        "99994    None\n",
        "99995    None\n",
        "99997    None\n",
        "Length: 6422"
       ]
      }
     ],
     "prompt_number": 46
    },
    {
     "cell_type": "code",
     "collapsed": false,
     "input": [
      "g.all_words"
     ],
     "language": "python",
     "metadata": {},
     "outputs": [
      {
       "output_type": "pyout",
       "prompt_number": 47,
       "text": [
        "array([['1946', 'suggested'],\n",
        "       ['1946', 'bibliography'],\n",
        "       ['1946', 'garden'],\n",
        "       ..., \n",
        "       ['1985', 'journal'],\n",
        "       ['1985', 'regional'],\n",
        "       ['1985', 'studies']], \n",
        "      dtype='|S20')"
       ]
      }
     ],
     "prompt_number": 47
    },
    {
     "cell_type": "code",
     "collapsed": false,
     "input": [
      "words_df = pd.DataFrame(g.all_words)\n",
      "len(words_df)"
     ],
     "language": "python",
     "metadata": {},
     "outputs": [
      {
       "output_type": "pyout",
       "prompt_number": 75,
       "text": [
        "24881"
       ]
      }
     ],
     "prompt_number": 75
    },
    {
     "cell_type": "code",
     "collapsed": false,
     "input": [
      "words_df.columns = ['Year', 'Word']"
     ],
     "language": "python",
     "metadata": {},
     "outputs": [],
     "prompt_number": 72
    },
    {
     "cell_type": "code",
     "collapsed": false,
     "input": [
      "words_df.head()"
     ],
     "language": "python",
     "metadata": {},
     "outputs": [
      {
       "html": [
        "<div style=\"max-height:1000px;max-width:1500px;overflow:auto;\">\n",
        "<table border=\"1\" class=\"dataframe\">\n",
        "  <thead>\n",
        "    <tr style=\"text-align: right;\">\n",
        "      <th></th>\n",
        "      <th>0</th>\n",
        "      <th>1</th>\n",
        "    </tr>\n",
        "  </thead>\n",
        "  <tbody>\n",
        "    <tr>\n",
        "      <th>0</th>\n",
        "      <td> 1946</td>\n",
        "      <td>    suggested</td>\n",
        "    </tr>\n",
        "    <tr>\n",
        "      <th>1</th>\n",
        "      <td> 1946</td>\n",
        "      <td> bibliography</td>\n",
        "    </tr>\n",
        "    <tr>\n",
        "      <th>2</th>\n",
        "      <td> 1946</td>\n",
        "      <td>       garden</td>\n",
        "    </tr>\n",
        "    <tr>\n",
        "      <th>3</th>\n",
        "      <td> 1946</td>\n",
        "      <td>       modern</td>\n",
        "    </tr>\n",
        "    <tr>\n",
        "      <th>4</th>\n",
        "      <td> 1946</td>\n",
        "      <td>        brief</td>\n",
        "    </tr>\n",
        "  </tbody>\n",
        "</table>\n",
        "</div>"
       ],
       "output_type": "pyout",
       "prompt_number": 81,
       "text": [
        "      0             1\n",
        "0  1946     suggested\n",
        "1  1946  bibliography\n",
        "2  1946        garden\n",
        "3  1946        modern\n",
        "4  1946         brief"
       ]
      }
     ],
     "prompt_number": 81
    },
    {
     "cell_type": "code",
     "collapsed": false,
     "input": [
      "words_dist = words_df.groupby('Word')"
     ],
     "language": "python",
     "metadata": {},
     "outputs": [],
     "prompt_number": 50
    },
    {
     "cell_type": "code",
     "collapsed": false,
     "input": [
      "wordcounts = words_dist.aggregate(np.count_nonzero)"
     ],
     "language": "python",
     "metadata": {},
     "outputs": [],
     "prompt_number": 51
    },
    {
     "cell_type": "code",
     "collapsed": false,
     "input": [
      "wordcounts = wordcounts.sort(columns=['Year'], ascending = False)"
     ],
     "language": "python",
     "metadata": {},
     "outputs": [],
     "prompt_number": 52
    },
    {
     "cell_type": "code",
     "collapsed": false,
     "input": [
      "wordcounts.min()"
     ],
     "language": "python",
     "metadata": {},
     "outputs": [
      {
       "output_type": "pyout",
       "prompt_number": 63,
       "text": [
        "Year    2"
       ]
      }
     ],
     "prompt_number": 63
    },
    {
     "cell_type": "code",
     "collapsed": false,
     "input": [
      "word_vektor = wordcounts['Year'].apply(lambda x: 0)"
     ],
     "language": "python",
     "metadata": {},
     "outputs": [],
     "prompt_number": 58
    },
    {
     "cell_type": "code",
     "collapsed": false,
     "input": [
      "word_vektor[:10]"
     ],
     "language": "python",
     "metadata": {},
     "outputs": [
      {
       "output_type": "pyout",
       "prompt_number": 60,
       "text": [
        "Word\n",
        "landscape    0\n",
        "jewish       0\n",
        "garden       0\n",
        "new          0\n",
        "report       0\n",
        "history      0\n",
        "trees        0\n",
        "national     0\n",
        "american     0\n",
        "jews         0\n",
        "Name: Year"
       ]
      }
     ],
     "prompt_number": 60
    },
    {
     "cell_type": "code",
     "collapsed": false,
     "input": [
      "wordcounts.index"
     ],
     "language": "python",
     "metadata": {},
     "outputs": [
      {
       "output_type": "pyout",
       "prompt_number": 55,
       "text": [
        "Index([landscape, jewish, garden, ..., zinc, zinnia, zum], dtype=object)"
       ]
      }
     ],
     "prompt_number": 55
    },
    {
     "cell_type": "code",
     "collapsed": false,
     "input": [
      "wordcounts[:50]"
     ],
     "language": "python",
     "metadata": {},
     "outputs": [
      {
       "ename": "NameError",
       "evalue": "name 'all_words' is not defined",
       "output_type": "pyerr",
       "traceback": [
        "\u001b[1;31m---------------------------------------------------------------------------\u001b[0m\n\u001b[1;31mNameError\u001b[0m                                 Traceback (most recent call last)",
        "\u001b[1;32m<ipython-input-56-452d18041168>\u001b[0m in \u001b[0;36m<module>\u001b[1;34m()\u001b[0m\n\u001b[1;32m----> 1\u001b[1;33m \u001b[0mall_words\u001b[0m\u001b[1;33m\u001b[0m\u001b[0m\n\u001b[0m",
        "\u001b[1;31mNameError\u001b[0m: name 'all_words' is not defined"
       ]
      }
     ],
     "prompt_number": 56
    },
    {
     "cell_type": "code",
     "collapsed": false,
     "input": [],
     "language": "python",
     "metadata": {},
     "outputs": []
    }
   ],
   "metadata": {}
  }
 ]
}