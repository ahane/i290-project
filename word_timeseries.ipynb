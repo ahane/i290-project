{
 "metadata": {
  "name": "word_timeseries"
 },
 "nbformat": 3,
 "nbformat_minor": 0,
 "worksheets": [
  {
   "cells": [
    {
     "cell_type": "code",
     "collapsed": false,
     "input": [
      "import pandas as pd"
     ],
     "language": "python",
     "metadata": {},
     "outputs": [],
     "prompt_number": 1
    },
    {
     "cell_type": "code",
     "collapsed": false,
     "input": [
      "import re\n",
      "import codecs\n",
      "import json\n",
      "words_ts = []\n",
      "words_stats = []\n",
      "with codecs.open('ngrams/all_ts', encoding='utf-8') as f:\n",
      "    for line in f:\n",
      "        m = re.match(r'\\\"([\\w\\\\]+)\\\"\\s([\\[\\]\\w\\s\\,]+)', line)\n",
      "        if m:\n",
      "            key = m.group(1)\n",
      "            value = json.loads(m.group(2))\n",
      "            maximum = value[0]\n",
      "            total = value[1]\n",
      "            num_years = value[2]\n",
      "            time_tuples = map(tuple, value[3])\n",
      "            #Create List of (Word, total count, average count, maximum) tuples\n",
      "            words_stats.append( (key, total, float(total)/num_years, maximum) )\n",
      "            #Create list (Word, timeseries tuples)\n",
      "            words_ts.append( (key, time_tuples) )\n",
      "        else:\n",
      "            print \"no match\", line"
     ],
     "language": "python",
     "metadata": {},
     "outputs": [],
     "prompt_number": 100
    },
    {
     "cell_type": "markdown",
     "metadata": {},
     "source": [
      "Words with the highest total count"
     ]
    },
    {
     "cell_type": "code",
     "collapsed": false,
     "input": [
      "\n",
      "sorted(words_stats, key = lambda x: x[1], reverse=True)[:10]"
     ],
     "language": "python",
     "metadata": {},
     "outputs": [
      {
       "output_type": "pyout",
       "prompt_number": 102,
       "text": [
        "[(u'new', 85878, 197.42068965517242, 1530),\n",
        " (u'history', 70748, 172.55609756097562, 1099),\n",
        " (u'law', 60217, 155.19845360824743, 1419),\n",
        " (u'report', 59751, 184.41666666666666, 2013),\n",
        " (u'american', 53828, 172.52564102564102, 1175),\n",
        " (u'life', 45998, 111.10628019323671, 600),\n",
        " (u'united', 43127, 140.02272727272728, 780),\n",
        " (u'states', 42696, 132.1857585139319, 824),\n",
        " (u'world', 40864, 100.15686274509804, 863),\n",
        " (u'state', 40714, 101.27860696517413, 692)]"
       ]
      }
     ],
     "prompt_number": 102
    },
    {
     "cell_type": "markdown",
     "metadata": {},
     "source": [
      "Words with the highest average count"
     ]
    },
    {
     "cell_type": "code",
     "collapsed": false,
     "input": [
      "sorted(words_stats, key = lambda x: x[2], reverse=True)[:10]"
     ],
     "language": "python",
     "metadata": {},
     "outputs": [
      {
       "output_type": "pyout",
       "prompt_number": 103,
       "text": [
        "[(u'development', 38366, 202.994708994709, 894),\n",
        " (u'new', 85878, 197.42068965517242, 1530),\n",
        " (u'report', 59751, 184.41666666666666, 2013),\n",
        " (u'history', 70748, 172.55609756097562, 1099),\n",
        " (u'american', 53828, 172.52564102564102, 1175),\n",
        " (u'international', 30165, 169.46629213483146, 845),\n",
        " (u'economic', 25933, 166.23717948717947, 561),\n",
        " (u'law', 60217, 155.19845360824743, 1419),\n",
        " (u'united', 43127, 140.02272727272728, 780),\n",
        " (u'states', 42696, 132.1857585139319, 824)]"
       ]
      }
     ],
     "prompt_number": 103
    },
    {
     "cell_type": "markdown",
     "metadata": {},
     "source": [
      "Words with the highest maximum"
     ]
    },
    {
     "cell_type": "code",
     "collapsed": false,
     "input": [
      "sorted(words_stats, key = lambda x: x[3], reverse=True)[:10]"
     ],
     "language": "python",
     "metadata": {},
     "outputs": [
      {
       "output_type": "pyout",
       "prompt_number": 104,
       "text": [
        "[(u'report', 59751, 184.41666666666666, 2013),\n",
        " (u'new', 85878, 197.42068965517242, 1530),\n",
        " (u'law', 60217, 155.19845360824743, 1419),\n",
        " (u'journal', 12192, 37.28440366972477, 1279),\n",
        " (u'american', 53828, 172.52564102564102, 1175),\n",
        " (u'history', 70748, 172.55609756097562, 1099),\n",
        " (u'annual', 12896, 48.84848484848485, 1066),\n",
        " (u'act', 31893, 87.13934426229508, 1014),\n",
        " (u'2000', 3701, 39.795698924731184, 1006),\n",
        " (u'development', 38366, 202.994708994709, 894)]"
       ]
      }
     ],
     "prompt_number": 104
    },
    {
     "cell_type": "code",
     "collapsed": false,
     "input": [],
     "language": "python",
     "metadata": {},
     "outputs": []
    }
   ],
   "metadata": {}
  }
 ]
}